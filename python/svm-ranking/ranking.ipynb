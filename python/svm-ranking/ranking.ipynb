{
 "cells": [
  {
   "cell_type": "markdown",
   "metadata": {},
   "source": [
    "### Example for Ranking\n",
    "This is an example in Professor Jordan Boyd's machine learning class. You can find the slide for this example at the following link:\n",
    "\n",
    "http://www.cs.colorado.edu/~jbg/teaching/CSCI_5622/0309b.pdf"
   ]
  },
  {
   "cell_type": "code",
   "execution_count": 77,
   "metadata": {
    "collapsed": false
   },
   "outputs": [],
   "source": [
    "import re\n",
    "import numpy"
   ]
  },
  {
   "cell_type": "code",
   "execution_count": 79,
   "metadata": {
    "collapsed": false
   },
   "outputs": [
    {
     "name": "stdout",
     "output_type": "stream",
     "text": [
      "Sideways -0.1917\n",
      "Smokey 0.2514\n",
      "Seconds 0.4913\n",
      "Paper 0.8742\n",
      "CB4 1.2781\n"
     ]
    }
   ],
   "source": [
    "# Get raw data from slide\n",
    "w = [0.02, 0.03, -1.82, -2.30, -0.05, 1.73, 1.84]\n",
    "texts = \"\"\"\n",
    "# Paper Chase\n",
    "1:−0.06 2:0.0 3:0.53 4:0.0 5:0.0 6:0.0 7:1.0\n",
    "# Seconds\n",
    "1:−0.08 2:−0.01 3:0.74 4:0.0 5:0.0 6:0.0 7:1.0\n",
    "#Smokey and the Bandit I I\n",
    "1:−0.03 2:−0.02 3:−1.43 4:1.0 5:1.0 6:0.0 7:0.0\n",
    "# CB4\n",
    "1:0.02 2:−0.03 3:−0.73 4:0.0 5:1.0 6:0.0 7:0.0\n",
    "#Sideways\n",
    "1:0.06 2:0.03 3:1.09 4:0.0 5:1.0 6:0.0 7:1.0\n",
    "\"\"\"\n",
    "\n",
    "# Wrangling data\n",
    "texts = texts.split(\"\\n\")[1:-1]\n",
    "titles = []\n",
    "vectors = []\n",
    "for ii, text in enumerate(texts):\n",
    "    if ii % 2 == 0:\n",
    "        titles.append(text)\n",
    "    else:\n",
    "        text = re.sub(\"\\xe2\\x88\\x92\", \"-\", text)\n",
    "        text = re.sub(\"[1-7]:\", \"\", text).split(\" \")\n",
    "        vectors.append(text)\n",
    "        \n",
    "# Reordering rank\n",
    "reordered_rank = []\n",
    "for ii, v in enumerate(vectors):\n",
    "    v = [float(x) for x in v]\n",
    "    reordered_rank.append([title[ii], numpy.dot(w, v)])\n",
    "\n",
    "# Show new ranking\n",
    "for item in sorted(reordered_rank, key=lambda x: x[1]):\n",
    "    print item[0], item[1]"
   ]
  },
  {
   "cell_type": "code",
   "execution_count": null,
   "metadata": {
    "collapsed": true
   },
   "outputs": [],
   "source": []
  }
 ],
 "metadata": {
  "kernelspec": {
   "display_name": "Python 2",
   "language": "python",
   "name": "python2"
  },
  "language_info": {
   "codemirror_mode": {
    "name": "ipython",
    "version": 2
   },
   "file_extension": ".py",
   "mimetype": "text/x-python",
   "name": "python",
   "nbconvert_exporter": "python",
   "pygments_lexer": "ipython2",
   "version": "2.7.9"
  }
 },
 "nbformat": 4,
 "nbformat_minor": 0
}
